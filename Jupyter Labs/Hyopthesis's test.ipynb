{
 "cells": [
  {
   "cell_type": "code",
   "execution_count": 1,
   "id": "80611031",
   "metadata": {},
   "outputs": [],
   "source": [
    "import pandas as pd\n",
    "import numpy as np\n",
    "import scipy \n",
    "import seaborn as sns\n",
    "from scipy.stats import shapiro\n",
    "import scipy.stats as st\n",
    "from matplotlib import pyplot as plt\n",
    "import researchpy\n",
    "\n",
    "\n",
    "import statsmodels.api as sm\n",
    "import statsmodels.formula.api as smf\n",
    "from statsmodels.formula.api import ols\n",
    "\n",
    "\n",
    "import correlation_test as ct"
   ]
  },
  {
   "cell_type": "code",
   "execution_count": 2,
   "id": "a33b7662",
   "metadata": {},
   "outputs": [],
   "source": [
    "customer_df = pd.read_csv(\"../Data/customer_df_clean\", sep=\";\", header=0)\n",
    "transaction_df = pd.read_csv('../Data/transaction_product_df_clean', sep=\";\", encoding=\"UTF-8\", header=0)\n",
    "product_df = pd.read_csv('../Data/product_df_clean', sep=\";\", encoding=\"UTF-8\", header=0)"
   ]
  },
  {
   "cell_type": "code",
   "execution_count": 3,
   "id": "5126b09e",
   "metadata": {},
   "outputs": [
    {
     "name": "stdout",
     "output_type": "stream",
     "text": [
      "<class 'pandas.core.frame.DataFrame'>\n",
      "RangeIndex: 8621 entries, 0 to 8620\n",
      "Data columns (total 5 columns):\n",
      " #   Column         Non-Null Count  Dtype \n",
      "---  ------         --------------  ----- \n",
      " 0   client_id      8621 non-null   object\n",
      " 1   sex            8621 non-null   object\n",
      " 2   age            8621 non-null   int64 \n",
      " 3   age_categorie  8621 non-null   object\n",
      " 4   type_client    8621 non-null   object\n",
      "dtypes: int64(1), object(4)\n",
      "memory usage: 336.9+ KB\n"
     ]
    }
   ],
   "source": [
    "customer_df.info()"
   ]
  },
  {
   "cell_type": "markdown",
   "id": "8fda2e03",
   "metadata": {},
   "source": [
    "# 1 Etude d'une correlation entre le genre et la catégorie de livre acheté (quali x quali)"
   ]
  },
  {
   "cell_type": "code",
   "execution_count": 4,
   "id": "e28fb81b",
   "metadata": {},
   "outputs": [
    {
     "name": "stdout",
     "output_type": "stream",
     "text": [
      "<class 'pandas.core.frame.DataFrame'>\n",
      "RangeIndex: 3286 entries, 0 to 3285\n",
      "Data columns (total 3 columns):\n",
      " #   Column   Non-Null Count  Dtype  \n",
      "---  ------   --------------  -----  \n",
      " 0   id_prod  3286 non-null   object \n",
      " 1   price    3286 non-null   float64\n",
      " 2   categ    3286 non-null   int64  \n",
      "dtypes: float64(1), int64(1), object(1)\n",
      "memory usage: 77.1+ KB\n"
     ]
    }
   ],
   "source": [
    "product_df.info()"
   ]
  },
  {
   "cell_type": "code",
   "execution_count": 5,
   "id": "0c393600",
   "metadata": {},
   "outputs": [
    {
     "data": {
      "text/plain": [
       "8621"
      ]
     },
     "execution_count": 5,
     "metadata": {},
     "output_type": "execute_result"
    }
   ],
   "source": [
    "customer_df.shape[0]"
   ]
  },
  {
   "cell_type": "code",
   "execution_count": 6,
   "id": "6934e43f",
   "metadata": {},
   "outputs": [],
   "source": [
    "#Préparation de la jointure\n",
    "customer_df.set_index('client_id', inplace=True)\n",
    "\n",
    "# Nous prenons les clients qui ont au moins fait une transaction grâce au left only\n",
    "transaction_customer = pd.merge(transaction_df, customer_df, on='client_id', how='left')"
   ]
  },
  {
   "cell_type": "markdown",
   "id": "5d8c9073",
   "metadata": {},
   "source": [
    "## Test statistique de l'indépendance avec qui-2 de Pearson"
   ]
  },
  {
   "cell_type": "markdown",
   "id": "662703ab",
   "metadata": {},
   "source": [
    "On pose l'hypothèse nulle **(H0)** qu'il n'y a pas de relation significative entre le sexe et la catégorie d'achat du client \n",
    "\n",
    "On modélise notre test statistiques par deux variables aléatoires X et Y avec : \n",
    "* **X** le sexe du client \n",
    "* **Y** la catégorie d'achat du client\n",
    "* **Taille de l'échantillon (n)** : 8621 clients (>30)<br>  \n",
    "\n",
    "Les différentes modalités de X sont : {\"m\" : homme, \"f\" : femme}  \n",
    "Les différentes modalités de Y sont : {0,1,2} \n",
    "\n",
    "**objectif** : \n",
    "* Calculer la statistiques du qui-2 de Pearson pour déterminer l'indépendance ou non de X et Y.\n",
    "* Vérifier la significativité du test en calculant le coefficient Cramer"
   ]
  },
  {
   "cell_type": "code",
   "execution_count": 7,
   "id": "d0a93703",
   "metadata": {},
   "outputs": [
    {
     "data": {
      "text/html": [
       "<div>\n",
       "<style scoped>\n",
       "    .dataframe tbody tr th:only-of-type {\n",
       "        vertical-align: middle;\n",
       "    }\n",
       "\n",
       "    .dataframe tbody tr th {\n",
       "        vertical-align: top;\n",
       "    }\n",
       "\n",
       "    .dataframe thead th {\n",
       "        text-align: right;\n",
       "    }\n",
       "</style>\n",
       "<table border=\"1\" class=\"dataframe\">\n",
       "  <thead>\n",
       "    <tr style=\"text-align: right;\">\n",
       "      <th></th>\n",
       "      <th>id_prod</th>\n",
       "      <th>date</th>\n",
       "      <th>session_id</th>\n",
       "      <th>client_id</th>\n",
       "      <th>price</th>\n",
       "      <th>categ</th>\n",
       "      <th>sex</th>\n",
       "      <th>age</th>\n",
       "      <th>age_categorie</th>\n",
       "      <th>type_client</th>\n",
       "    </tr>\n",
       "  </thead>\n",
       "  <tbody>\n",
       "    <tr>\n",
       "      <th>0</th>\n",
       "      <td>0_1518</td>\n",
       "      <td>2021-09-26</td>\n",
       "      <td>s_95811</td>\n",
       "      <td>c_6197</td>\n",
       "      <td>4.18</td>\n",
       "      <td>0</td>\n",
       "      <td>m</td>\n",
       "      <td>37</td>\n",
       "      <td>Adultes</td>\n",
       "      <td>particulier</td>\n",
       "    </tr>\n",
       "    <tr>\n",
       "      <th>1</th>\n",
       "      <td>0_1518</td>\n",
       "      <td>2021-05-06</td>\n",
       "      <td>s_30782</td>\n",
       "      <td>c_682</td>\n",
       "      <td>4.18</td>\n",
       "      <td>0</td>\n",
       "      <td>f</td>\n",
       "      <td>48</td>\n",
       "      <td>Senior</td>\n",
       "      <td>particulier</td>\n",
       "    </tr>\n",
       "    <tr>\n",
       "      <th>2</th>\n",
       "      <td>0_1518</td>\n",
       "      <td>2021-09-07</td>\n",
       "      <td>s_86219</td>\n",
       "      <td>c_4377</td>\n",
       "      <td>4.18</td>\n",
       "      <td>0</td>\n",
       "      <td>m</td>\n",
       "      <td>47</td>\n",
       "      <td>Senior</td>\n",
       "      <td>particulier</td>\n",
       "    </tr>\n",
       "    <tr>\n",
       "      <th>3</th>\n",
       "      <td>0_1518</td>\n",
       "      <td>2021-07-21</td>\n",
       "      <td>s_65278</td>\n",
       "      <td>c_191</td>\n",
       "      <td>4.18</td>\n",
       "      <td>0</td>\n",
       "      <td>f</td>\n",
       "      <td>58</td>\n",
       "      <td>Senior</td>\n",
       "      <td>particulier</td>\n",
       "    </tr>\n",
       "    <tr>\n",
       "      <th>4</th>\n",
       "      <td>0_1518</td>\n",
       "      <td>2021-04-29</td>\n",
       "      <td>s_27346</td>\n",
       "      <td>c_458</td>\n",
       "      <td>4.18</td>\n",
       "      <td>0</td>\n",
       "      <td>m</td>\n",
       "      <td>41</td>\n",
       "      <td>Adultes</td>\n",
       "      <td>particulier</td>\n",
       "    </tr>\n",
       "    <tr>\n",
       "      <th>...</th>\n",
       "      <td>...</td>\n",
       "      <td>...</td>\n",
       "      <td>...</td>\n",
       "      <td>...</td>\n",
       "      <td>...</td>\n",
       "      <td>...</td>\n",
       "      <td>...</td>\n",
       "      <td>...</td>\n",
       "      <td>...</td>\n",
       "      <td>...</td>\n",
       "    </tr>\n",
       "    <tr>\n",
       "      <th>315581</th>\n",
       "      <td>0_541</td>\n",
       "      <td>2021-03-08</td>\n",
       "      <td>s_3676</td>\n",
       "      <td>c_1869</td>\n",
       "      <td>1.99</td>\n",
       "      <td>0</td>\n",
       "      <td>f</td>\n",
       "      <td>37</td>\n",
       "      <td>Adultes</td>\n",
       "      <td>particulier</td>\n",
       "    </tr>\n",
       "    <tr>\n",
       "      <th>315582</th>\n",
       "      <td>0_1279</td>\n",
       "      <td>2021-06-23</td>\n",
       "      <td>s_52563</td>\n",
       "      <td>c_1025</td>\n",
       "      <td>20.99</td>\n",
       "      <td>0</td>\n",
       "      <td>m</td>\n",
       "      <td>38</td>\n",
       "      <td>Adultes</td>\n",
       "      <td>particulier</td>\n",
       "    </tr>\n",
       "    <tr>\n",
       "      <th>315583</th>\n",
       "      <td>0_1683</td>\n",
       "      <td>2021-12-24</td>\n",
       "      <td>s_139091</td>\n",
       "      <td>c_5508</td>\n",
       "      <td>2.99</td>\n",
       "      <td>0</td>\n",
       "      <td>f</td>\n",
       "      <td>48</td>\n",
       "      <td>Senior</td>\n",
       "      <td>particulier</td>\n",
       "    </tr>\n",
       "    <tr>\n",
       "      <th>315584</th>\n",
       "      <td>0_886</td>\n",
       "      <td>2021-03-17</td>\n",
       "      <td>s_7410</td>\n",
       "      <td>c_7219</td>\n",
       "      <td>21.82</td>\n",
       "      <td>0</td>\n",
       "      <td>f</td>\n",
       "      <td>56</td>\n",
       "      <td>Senior</td>\n",
       "      <td>particulier</td>\n",
       "    </tr>\n",
       "    <tr>\n",
       "      <th>315585</th>\n",
       "      <td>0_833</td>\n",
       "      <td>2021-09-27</td>\n",
       "      <td>s_96558</td>\n",
       "      <td>c_8260</td>\n",
       "      <td>2.99</td>\n",
       "      <td>0</td>\n",
       "      <td>m</td>\n",
       "      <td>31</td>\n",
       "      <td>Adultes</td>\n",
       "      <td>particulier</td>\n",
       "    </tr>\n",
       "  </tbody>\n",
       "</table>\n",
       "<p>315586 rows × 10 columns</p>\n",
       "</div>"
      ],
      "text/plain": [
       "       id_prod        date session_id client_id  price  categ sex  age  \\\n",
       "0       0_1518  2021-09-26    s_95811    c_6197   4.18      0   m   37   \n",
       "1       0_1518  2021-05-06    s_30782     c_682   4.18      0   f   48   \n",
       "2       0_1518  2021-09-07    s_86219    c_4377   4.18      0   m   47   \n",
       "3       0_1518  2021-07-21    s_65278     c_191   4.18      0   f   58   \n",
       "4       0_1518  2021-04-29    s_27346     c_458   4.18      0   m   41   \n",
       "...        ...         ...        ...       ...    ...    ...  ..  ...   \n",
       "315581   0_541  2021-03-08     s_3676    c_1869   1.99      0   f   37   \n",
       "315582  0_1279  2021-06-23    s_52563    c_1025  20.99      0   m   38   \n",
       "315583  0_1683  2021-12-24   s_139091    c_5508   2.99      0   f   48   \n",
       "315584   0_886  2021-03-17     s_7410    c_7219  21.82      0   f   56   \n",
       "315585   0_833  2021-09-27    s_96558    c_8260   2.99      0   m   31   \n",
       "\n",
       "       age_categorie  type_client  \n",
       "0            Adultes  particulier  \n",
       "1             Senior  particulier  \n",
       "2             Senior  particulier  \n",
       "3             Senior  particulier  \n",
       "4            Adultes  particulier  \n",
       "...              ...          ...  \n",
       "315581       Adultes  particulier  \n",
       "315582       Adultes  particulier  \n",
       "315583        Senior  particulier  \n",
       "315584        Senior  particulier  \n",
       "315585       Adultes  particulier  \n",
       "\n",
       "[315586 rows x 10 columns]"
      ]
     },
     "execution_count": 7,
     "metadata": {},
     "output_type": "execute_result"
    }
   ],
   "source": [
    "transaction_customer"
   ]
  },
  {
   "cell_type": "markdown",
   "id": "ae1658f9",
   "metadata": {},
   "source": [
    "**Observation** : D'après le tableau, les préférences d'achat des clients sont les mêmes suivant le sexe. \n",
    "\n",
    "**Exemple** : Les hommes et les femmes ont les mêmes préférences d'achat "
   ]
  },
  {
   "cell_type": "code",
   "execution_count": 8,
   "id": "916111a5",
   "metadata": {},
   "outputs": [
    {
     "name": "stdout",
     "output_type": "stream",
     "text": [
      "==================================================================================================== \n",
      "\n",
      "\t\t\t\t\t \u001b[1mTEST D'INDEPENDANCE DU CHI-2\u001b[0m \n",
      "\n",
      "==================================================================================================== \n",
      "\n"
     ]
    },
    {
     "data": {
      "image/png": "[encoded data removed]",
      "text/plain": [
       "<Figure size 1080x432 with 4 Axes>"
      ]
     },
     "metadata": {
      "needs_background": "light"
     },
     "output_type": "display_data"
    },
    {
     "name": "stdout",
     "output_type": "stream",
     "text": [
      "\n",
      "\n",
      "    \t\t ##### \u001b[1m0. Hypothèse du test \u001b[0m ##### \n",
      "\n",
      "    H0 : \u001b[1msex\u001b[0m et \u001b[1mcateg\u001b[0m sont indépendantes \n",
      "\n",
      "    H1 : \u001b[1msex\u001b[0m et \u001b[1mcateg\u001b[0m sont corrélées \n",
      " \n",
      "    \n",
      "\t\t ##### \u001b[1m1. Paramètre du test\u001b[0m ##### \n",
      "\n",
      "    Variables aléatoires étudiées : \u001b[1msex et categ\u001b[0m\n",
      "\n",
      "    Indice de confiance alpha : \u001b[1m0.05\u001b[0m \n",
      "\n",
      "    Degré de liberté : \u001b[1m2\u001b[0m\n",
      "\n",
      "    \n",
      "\t\t ##### \u001b[1m2. Résultat du test du Qui-2 \u001b[0m ##### \n",
      "\n",
      "    Coefficient du qui-2 : \u001b[1m79.31011874358649\u001b[0m\n",
      "\n",
      "    p-value calculée : \u001b[1m5.998277244600357e-18\u001b[0m\n",
      "\n",
      "\n",
      "    \n",
      "\t\t ##### \u001b[1m3. Conclusion du test \u001b[0m ##### \n",
      "\n",
      "    \n",
      "H0 est rejetée : \u001b[1msex\u001b[0m et \u001b[1mcateg\u001b[0m sont corrélées significativement\n",
      "\n",
      "\n",
      "\n",
      "==================================================================================================== \n",
      "\n",
      "\t\t\t\t\t \u001b[1mTEST DE SIGNIFICATIVITE DE V CRAMER\u001b[0m \n",
      "\n",
      "==================================================================================================== \n",
      "\n",
      "Le coefficient de Cramer est de : \u001b[1m0.0159\u001b[0m \n",
      "\n",
      "    L'intensité du lien entre les variables est \u001b[1mquasiement nulle\u001b[0m\n",
      "\n",
      "\n",
      "==================================================================================================== \n",
      "\n"
     ]
    }
   ],
   "source": [
    "# Appelle de la fonction chi2\n",
    "ct.chi2test(transaction_customer,'sex','categ')"
   ]
  },
  {
   "cell_type": "markdown",
   "id": "b68c39b1",
   "metadata": {},
   "source": [
    "# 2. Lien entre l'âge et la fréquence d'achat, le panier moyen et le montant total"
   ]
  },
  {
   "cell_type": "markdown",
   "id": "e804236d",
   "metadata": {},
   "source": [
    "Les variables que l'on étudie sont toutes des variables quantitatives. <br>\n",
    "Les tests statistiques pour évaluer l'indépendance linéaire entre 2 variables sont ceux de **Pearson** ou de **Spearman**. <br>\n",
    "Ces tests nous permettront d'obtenir la force des liens entre 2 variables grâce au coefficient lineaire (r²) de **Pearson** et **Spearman**"
   ]
  },
  {
   "cell_type": "code",
   "execution_count": 9,
   "id": "ac3b2898",
   "metadata": {},
   "outputs": [],
   "source": [
    "# Récupérer les données par client \n",
    "\n",
    "\n",
    "data = transaction_customer.groupby(by=['age'], as_index=False).agg({\"id_prod\" : \"count\",\n",
    "                                             \"price\" : \"sum\"}).rename(columns={\"id_prod\" : \"nombre d'achat\",\n",
    "                                                                              \"price\" : \"montant total\"})\n",
    "\n",
    "data_parti = transaction_customer[transaction_customer[\"type_client\"]==\"particulier\"].groupby(by=['age'], as_index=False).agg({\"id_prod\" : \"count\",\n",
    "                                             \"price\" : \"sum\"}).rename(columns={\"id_prod\" : \"nombre d'achat\",\n",
    "                                                                              \"price\" : \"montant total\"})\n",
    "\n",
    "# Calcul le panier moyen par âgv\n",
    "\n",
    "data[\"panier moyen\"] = data[\"montant total\"] / data[\"nombre d'achat\"]\n",
    "data_parti[\"panier moyen\"] = data_parti[\"montant total\"] / data_parti[\"nombre d'achat\"]"
   ]
  },
  {
   "cell_type": "code",
   "execution_count": 10,
   "id": "93912625",
   "metadata": {},
   "outputs": [
    {
     "data": {
      "text/html": [
       "<div>\n",
       "<style scoped>\n",
       "    .dataframe tbody tr th:only-of-type {\n",
       "        vertical-align: middle;\n",
       "    }\n",
       "\n",
       "    .dataframe tbody tr th {\n",
       "        vertical-align: top;\n",
       "    }\n",
       "\n",
       "    .dataframe thead th {\n",
       "        text-align: right;\n",
       "    }\n",
       "</style>\n",
       "<table border=\"1\" class=\"dataframe\">\n",
       "  <thead>\n",
       "    <tr style=\"text-align: right;\">\n",
       "      <th></th>\n",
       "      <th>age</th>\n",
       "      <th>nombre d'achat</th>\n",
       "      <th>montant total</th>\n",
       "      <th>panier moyen</th>\n",
       "    </tr>\n",
       "  </thead>\n",
       "  <tbody>\n",
       "    <tr>\n",
       "      <th>0</th>\n",
       "      <td>18</td>\n",
       "      <td>6980</td>\n",
       "      <td>278682.40</td>\n",
       "      <td>39.925845</td>\n",
       "    </tr>\n",
       "    <tr>\n",
       "      <th>1</th>\n",
       "      <td>19</td>\n",
       "      <td>2055</td>\n",
       "      <td>83544.30</td>\n",
       "      <td>40.654161</td>\n",
       "    </tr>\n",
       "    <tr>\n",
       "      <th>2</th>\n",
       "      <td>20</td>\n",
       "      <td>2106</td>\n",
       "      <td>84648.84</td>\n",
       "      <td>40.194131</td>\n",
       "    </tr>\n",
       "    <tr>\n",
       "      <th>3</th>\n",
       "      <td>21</td>\n",
       "      <td>1949</td>\n",
       "      <td>81327.36</td>\n",
       "      <td>41.727737</td>\n",
       "    </tr>\n",
       "    <tr>\n",
       "      <th>4</th>\n",
       "      <td>22</td>\n",
       "      <td>2062</td>\n",
       "      <td>75945.11</td>\n",
       "      <td>36.830800</td>\n",
       "    </tr>\n",
       "    <tr>\n",
       "      <th>...</th>\n",
       "      <td>...</td>\n",
       "      <td>...</td>\n",
       "      <td>...</td>\n",
       "      <td>...</td>\n",
       "    </tr>\n",
       "    <tr>\n",
       "      <th>71</th>\n",
       "      <td>89</td>\n",
       "      <td>151</td>\n",
       "      <td>2456.65</td>\n",
       "      <td>16.269205</td>\n",
       "    </tr>\n",
       "    <tr>\n",
       "      <th>72</th>\n",
       "      <td>90</td>\n",
       "      <td>141</td>\n",
       "      <td>2346.54</td>\n",
       "      <td>16.642128</td>\n",
       "    </tr>\n",
       "    <tr>\n",
       "      <th>73</th>\n",
       "      <td>91</td>\n",
       "      <td>78</td>\n",
       "      <td>1308.66</td>\n",
       "      <td>16.777692</td>\n",
       "    </tr>\n",
       "    <tr>\n",
       "      <th>74</th>\n",
       "      <td>92</td>\n",
       "      <td>111</td>\n",
       "      <td>1973.72</td>\n",
       "      <td>17.781261</td>\n",
       "    </tr>\n",
       "    <tr>\n",
       "      <th>75</th>\n",
       "      <td>93</td>\n",
       "      <td>84</td>\n",
       "      <td>1275.26</td>\n",
       "      <td>15.181667</td>\n",
       "    </tr>\n",
       "  </tbody>\n",
       "</table>\n",
       "<p>76 rows × 4 columns</p>\n",
       "</div>"
      ],
      "text/plain": [
       "    age  nombre d'achat  montant total  panier moyen\n",
       "0    18            6980      278682.40     39.925845\n",
       "1    19            2055       83544.30     40.654161\n",
       "2    20            2106       84648.84     40.194131\n",
       "3    21            1949       81327.36     41.727737\n",
       "4    22            2062       75945.11     36.830800\n",
       "..  ...             ...            ...           ...\n",
       "71   89             151        2456.65     16.269205\n",
       "72   90             141        2346.54     16.642128\n",
       "73   91              78        1308.66     16.777692\n",
       "74   92             111        1973.72     17.781261\n",
       "75   93              84        1275.26     15.181667\n",
       "\n",
       "[76 rows x 4 columns]"
      ]
     },
     "execution_count": 10,
     "metadata": {},
     "output_type": "execute_result"
    }
   ],
   "source": [
    "data_parti"
   ]
  },
  {
   "cell_type": "code",
   "execution_count": 11,
   "id": "ec01c0d0",
   "metadata": {},
   "outputs": [],
   "source": [
    "# Calcul du coefficient de corrélation selon la méthode de Pearson et Spearman\n",
    "corr_pearson = data.corr(method=\"pearson\")\n",
    "corr_spearman = data.corr(method=\"spearman\")\n",
    "corr_pearson_parti = data_parti.corr(method=\"pearson\")\n",
    "corr_spearman_parti = data_parti.corr(method=\"spearman\")"
   ]
  },
  {
   "cell_type": "code",
   "execution_count": 12,
   "id": "6b29f7b9",
   "metadata": {},
   "outputs": [
    {
     "data": {
      "image/png": "[encoded data removed]",
      "text/plain": [
       "<Figure size 1080x432 with 4 Axes>"
      ]
     },
     "metadata": {
      "needs_background": "light"
     },
     "output_type": "display_data"
    },
    {
     "name": "stdout",
     "output_type": "stream",
     "text": [
      "#######################################\n"
     ]
    },
    {
     "data": {
      "image/png": "[encoded data removed]",
      "text/plain": [
       "<Figure size 1080x432 with 4 Axes>"
      ]
     },
     "metadata": {
      "needs_background": "light"
     },
     "output_type": "display_data"
    }
   ],
   "source": [
    "# Matrice de corrélation\n",
    "\n",
    "# masque pour uniquement afficher la partie inférieure de la matrice symétrique\n",
    "mask = np.triu(np.ones_like(corr_pearson, dtype=bool))\n",
    "\n",
    "fig, ax = plt.subplots(1, 2 , figsize=(15,6))\n",
    "sns.heatmap(corr_pearson,annot=True, ax=ax[0], cmap=\"bwr\", mask=mask, linewidths=2, linecolor=\"k\")\n",
    "sns.heatmap(corr_spearman,annot=True, ax=ax[1], cmap=\"bwr\", mask=mask, linewidths=2, linecolor=\"k\")\n",
    "ax[0].set_title(\"Matrice de coefficient de Pearson\",fontsize=15, fontweight=\"bold\")\n",
    "ax[1].set_title(\"Matrice de coefficient de Spearman\", fontsize=15, fontweight=\"bold\")\n",
    "plt.title\n",
    "plt.show()\n",
    "\n",
    "print(\"#######################################\")\n",
    "fig, ax = plt.subplots(1, 2 , figsize=(15,6))\n",
    "sns.heatmap(corr_pearson_parti,annot=True, ax=ax[0], cmap=\"bwr\", mask=mask, linewidths=2, linecolor=\"k\")\n",
    "sns.heatmap(corr_spearman_parti,annot=True, ax=ax[1], cmap=\"bwr\", mask=mask, linewidths=2, linecolor=\"k\")\n",
    "ax[0].set_title(\"Matrice de coefficient de Pearson (Client particulier)\",fontsize=12, fontweight=\"bold\")\n",
    "ax[1].set_title(\"Matrice de coefficient de Spearman (Client particulier)\", fontsize=12, fontweight=\"bold\")\n",
    "plt.title\n",
    "plt.show()"
   ]
  },
  {
   "cell_type": "markdown",
   "id": "b37489d6",
   "metadata": {},
   "source": [
    "**Observation** : \n",
    "\n",
    "* D'après le test de Pearson, l'âge semble être corrélé avec le montant du panier moyen (**r²=-0.55**) ce qui n'est pas le cas du test de Spearman (**r²=-0.092**)\n",
    "* On remarque une très forte corrélation entre le nombre d'achat et le montant total (**r²=0.93**) ce qui sous entend une liaison linéaire entre les 2 "
   ]
  },
  {
   "cell_type": "code",
   "execution_count": 13,
   "id": "31c5696e",
   "metadata": {},
   "outputs": [
    {
     "data": {
      "image/png": "[encoded data removed]",
      "text/plain": [
       "<Figure size 720x720 with 14 Axes>"
      ]
     },
     "metadata": {
      "needs_background": "light"
     },
     "output_type": "display_data"
    }
   ],
   "source": [
    "sns.pairplot(data, corner=True)\n",
    "plt.show()"
   ]
  },
  {
   "cell_type": "markdown",
   "id": "fecf31a4",
   "metadata": {},
   "source": [
    "**Observation** : \n",
    "\n",
    "* Aucune variable aléatoire ne suit une loi Normale (Test de Pearson impossible)"
   ]
  },
  {
   "cell_type": "markdown",
   "id": "aa0e8bb1",
   "metadata": {},
   "source": [
    "## 2.1 Test statistique d'indépendance pour l'âge et le montant total des achats"
   ]
  },
  {
   "cell_type": "code",
   "execution_count": 14,
   "id": "6a7fe53d",
   "metadata": {},
   "outputs": [
    {
     "data": {
      "image/png": "[encoded data removed]",
      "text/plain": [
       "<Figure size 1080x360 with 2 Axes>"
      ]
     },
     "metadata": {
      "needs_background": "light"
     },
     "output_type": "display_data"
    }
   ],
   "source": [
    "fig, ax = plt.subplots(1,2,figsize=(15,5))\n",
    "sns.scatterplot(data=data, x=\"age\", y=\"montant total\", ax=ax[0])\n",
    "sns.scatterplot(data=data_parti, x=\"age\", y=\"montant total\", ax=ax[1])\n",
    "ax[0].set_title(\"Nuage de point entre l'âge et le chiffre d'affaire\", fontsize=10)\n",
    "ax[1].set_title(\"Nuage de point entre l'âge et le chiffre d'affaire (client particulier)\", fontsize=10)\n",
    "plt.show()"
   ]
  },
  {
   "cell_type": "markdown",
   "id": "207bb3ad",
   "metadata": {},
   "source": [
    "**Note** : Valeur remarquable des clients de 18 ans qui s'explique par des clients qui mineurs qui lors de l'inscription, triche en indiquant 18 ans pour effectuer des achats. Ce ne sont pas des clients **professionnels** et nous décidons donc de les garder pour nos tests de corrélation"
   ]
  },
  {
   "cell_type": "markdown",
   "id": "ae1a82b4",
   "metadata": {},
   "source": [
    "## Test de normalité des variables aléatoires (Test de Shapiro)"
   ]
  },
  {
   "cell_type": "code",
   "execution_count": 15,
   "id": "a1be68ef",
   "metadata": {},
   "outputs": [
    {
     "name": "stdout",
     "output_type": "stream",
     "text": [
      "==================================================================================================== \n",
      "\n",
      "\t\t\t\t\t TEST DE LA NORMALITE (TEST DE SHAPIRO) \n",
      "\n",
      "==================================================================================================== \n",
      "\n",
      "\n",
      "    \t##### \u001b[1m0. Hypothèse du test\u001b[0m #####\n",
      "\n",
      "    H0 : \u001b[1mage\u001b[0m suit une loi normale \n",
      "\n",
      "    H1 : \u001b[1mage\u001b[0m ne suit pas une loi normale \n",
      "\n",
      "    \n",
      "    \t##### \u001b[1m1. Paramètre du test de Shapiro\u001b[0m #####\n",
      "\n",
      "    Variable aléatoire étudiée : \u001b[1mage\u001b[0m\n",
      "\n",
      "    Indice de confiance : \u001b[1m0.05\u001b[0m\n",
      "\n",
      "    Taille de l'échantillon : \u001b[1m76\u001b[0m\n",
      "\n",
      "    \n",
      "    \t #### \u001b[1m2. Résultat du test\u001b[0m ####\n",
      "\n",
      "    p-value de shapiro : \u001b[1m0.008753289468586445\u001b[0m\n",
      "\n",
      "    coefficient de shapiro : \u001b[1m0.9549233913421631\u001b[0m\n",
      " \n",
      "    \n",
      "    \t #### \u001b[1m3. Conclusion du test\u001b[0m ####\n",
      "\n",
      "L'hypothèse nulle est rejetée \t ==> \u001b[1mage\u001b[0m ne suit pas une loi normale\n",
      "\n",
      "==================================================================================================== \n",
      "\n",
      "==================================================================================================== \n",
      "\n",
      "\t\t\t\t\t TEST DE LA NORMALITE (TEST DE SHAPIRO) \n",
      "\n",
      "==================================================================================================== \n",
      "\n",
      "\n",
      "    \t##### \u001b[1m0. Hypothèse du test\u001b[0m #####\n",
      "\n",
      "    H0 : \u001b[1mmontant total\u001b[0m suit une loi normale \n",
      "\n",
      "    H1 : \u001b[1mmontant total\u001b[0m ne suit pas une loi normale \n",
      "\n",
      "    \n",
      "    \t##### \u001b[1m1. Paramètre du test de Shapiro\u001b[0m #####\n",
      "\n",
      "    Variable aléatoire étudiée : \u001b[1mmontant total\u001b[0m\n",
      "\n",
      "    Indice de confiance : \u001b[1m0.05\u001b[0m\n",
      "\n",
      "    Taille de l'échantillon : \u001b[1m76\u001b[0m\n",
      "\n",
      "    \n",
      "    \t #### \u001b[1m2. Résultat du test\u001b[0m ####\n",
      "\n",
      "    p-value de shapiro : \u001b[1m8.833090396365151e-05\u001b[0m\n",
      "\n",
      "    coefficient de shapiro : \u001b[1m0.9154434204101562\u001b[0m\n",
      " \n",
      "    \n",
      "    \t #### \u001b[1m3. Conclusion du test\u001b[0m ####\n",
      "\n",
      "L'hypothèse nulle est rejetée \t ==> \u001b[1mmontant total\u001b[0m ne suit pas une loi normale\n",
      "\n",
      "==================================================================================================== \n",
      "\n"
     ]
    }
   ],
   "source": [
    "ct.shapiro_test(data_parti['age'])\n",
    "ct.shapiro_test(data_parti['montant total'])"
   ]
  },
  {
   "cell_type": "markdown",
   "id": "4589734d",
   "metadata": {},
   "source": [
    "## Test statistique de Spearman"
   ]
  },
  {
   "cell_type": "code",
   "execution_count": 16,
   "id": "fb12a741",
   "metadata": {},
   "outputs": [
    {
     "name": "stdout",
     "output_type": "stream",
     "text": [
      "==================================================================================================== \n",
      "\n",
      "\t\t\t\t\t  \u001b[1mTEST D'INDEPENDANCE DE SPEARMAN \u001b[0m \n",
      "\n",
      "==================================================================================================== \n",
      "\n",
      "\t##### \u001b[1m0. Hypothèse du test\u001b[0m #####\n",
      "\n",
      "    H0 : Les variables ('age', 'montant total') sont indépendantes\n",
      "\n",
      "    H1 : Les variables ('age', 'montant total') sont corrélées\n",
      "\n",
      "    \t##### \u001b[1m1. Paramètre du test de Shapiro\u001b[0m #####\n",
      "\n",
      "    Variables aléatoires étudiées : \u001b[1m('age', 'montant total')\u001b[0m\n",
      "\n",
      "    Indice de confiance : \u001b[1m0.05\u001b[0m\n",
      "\n",
      "    Taille de l'échantillon : \u001b[1m76\u001b[0m\n",
      "\n",
      "\n",
      "    \t #### \u001b[1m2. Résultat du test\u001b[0m ####\n",
      "\n",
      "    coefficient de Spearman : \u001b[1m-0.872153110047847\u001b[0m\n",
      "\n",
      "    p-value associée au test de Spearman : \u001b[1m1.115964940850988e-24\u001b[0m\n",
      "\n",
      "    \t #### \u001b[1m3. Conclusion du test\u001b[0m ####\n",
      "\n",
      "\n",
      " --> \u001b[1m('age', 'montant total')\u001b[0m présentent \u001b[1msignificativement\u001b[0m une \u001b[1mtrès forte\u001b[0m corrélation négative.\n"
     ]
    }
   ],
   "source": [
    "ct.spearman_test(data_parti['age'], data_parti['montant total'])"
   ]
  },
  {
   "cell_type": "markdown",
   "id": "0d2f34c9",
   "metadata": {},
   "source": [
    "## 2.2 Test d'indépendance de l'âge avec le nombre d'achat"
   ]
  },
  {
   "cell_type": "code",
   "execution_count": 17,
   "id": "32c9bd20",
   "metadata": {},
   "outputs": [
    {
     "data": {
      "image/png": "[encoded data removed]",
      "text/plain": [
       "<Figure size 1080x360 with 2 Axes>"
      ]
     },
     "metadata": {
      "needs_background": "light"
     },
     "output_type": "display_data"
    }
   ],
   "source": [
    "fig, ax = plt.subplots(1,2,figsize=(15,5))\n",
    "sns.scatterplot(data=data, x=\"age\", y=\"nombre d'achat\", ax=ax[0])\n",
    "sns.scatterplot(data=data_parti, x=\"age\", y=\"nombre d'achat\", ax=ax[1])\n",
    "ax[0].set_title(\"Nuage de point entre l'âge et le nombre d'achat\", fontsize=10)\n",
    "ax[1].set_title(\"Nuage de point entre l'âge et le nombre d'achat (client particulier)\", fontsize=10)\n",
    "plt.show()"
   ]
  },
  {
   "cell_type": "markdown",
   "id": "50963fcb",
   "metadata": {},
   "source": [
    "## Test de la normalité d'une variable"
   ]
  },
  {
   "cell_type": "code",
   "execution_count": 18,
   "id": "35e0cfda",
   "metadata": {},
   "outputs": [
    {
     "name": "stdout",
     "output_type": "stream",
     "text": [
      "==================================================================================================== \n",
      "\n",
      "\t\t\t\t\t TEST DE LA NORMALITE (TEST DE SHAPIRO) \n",
      "\n",
      "==================================================================================================== \n",
      "\n",
      "\n",
      "    \t##### \u001b[1m0. Hypothèse du test\u001b[0m #####\n",
      "\n",
      "    H0 : \u001b[1mnombre d'achat\u001b[0m suit une loi normale \n",
      "\n",
      "    H1 : \u001b[1mnombre d'achat\u001b[0m ne suit pas une loi normale \n",
      "\n",
      "    \n",
      "    \t##### \u001b[1m1. Paramètre du test de Shapiro\u001b[0m #####\n",
      "\n",
      "    Variable aléatoire étudiée : \u001b[1mnombre d'achat\u001b[0m\n",
      "\n",
      "    Indice de confiance : \u001b[1m0.05\u001b[0m\n",
      "\n",
      "    Taille de l'échantillon : \u001b[1m76\u001b[0m\n",
      "\n",
      "    \n",
      "    \t #### \u001b[1m2. Résultat du test\u001b[0m ####\n",
      "\n",
      "    p-value de shapiro : \u001b[1m5.542508461076068e-07\u001b[0m\n",
      "\n",
      "    coefficient de shapiro : \u001b[1m0.8587468266487122\u001b[0m\n",
      " \n",
      "    \n",
      "    \t #### \u001b[1m3. Conclusion du test\u001b[0m ####\n",
      "\n",
      "L'hypothèse nulle est rejetée \t ==> \u001b[1mnombre d'achat\u001b[0m ne suit pas une loi normale\n",
      "\n",
      "==================================================================================================== \n",
      "\n"
     ]
    }
   ],
   "source": [
    "ct.shapiro_test(data_parti[\"nombre d'achat\"])"
   ]
  },
  {
   "cell_type": "code",
   "execution_count": 19,
   "id": "8e52424f",
   "metadata": {},
   "outputs": [
    {
     "name": "stdout",
     "output_type": "stream",
     "text": [
      "==================================================================================================== \n",
      "\n",
      "\t\t\t\t\t  \u001b[1mTEST D'INDEPENDANCE DE SPEARMAN \u001b[0m \n",
      "\n",
      "==================================================================================================== \n",
      "\n",
      "\t##### \u001b[1m0. Hypothèse du test\u001b[0m #####\n",
      "\n",
      "    H0 : Les variables ('age', \"nombre d'achat\") sont indépendantes\n",
      "\n",
      "    H1 : Les variables ('age', \"nombre d'achat\") sont corrélées\n",
      "\n",
      "    \t##### \u001b[1m1. Paramètre du test de Shapiro\u001b[0m #####\n",
      "\n",
      "    Variables aléatoires étudiées : \u001b[1m('age', \"nombre d'achat\")\u001b[0m\n",
      "\n",
      "    Indice de confiance : \u001b[1m0.05\u001b[0m\n",
      "\n",
      "    Taille de l'échantillon : \u001b[1m76\u001b[0m\n",
      "\n",
      "\n",
      "    \t #### \u001b[1m2. Résultat du test\u001b[0m ####\n",
      "\n",
      "    coefficient de Spearman : \u001b[1m-0.6731647300068353\u001b[0m\n",
      "\n",
      "    p-value associée au test de Spearman : \u001b[1m2.7051358253749183e-11\u001b[0m\n",
      "\n",
      "    \t #### \u001b[1m3. Conclusion du test\u001b[0m ####\n",
      "\n",
      "\n",
      " --> \u001b[1m('age', \"nombre d'achat\")\u001b[0m présentent \u001b[1msignificativement\u001b[0m une \u001b[1mforte\u001b[0m corrélation négative.\n"
     ]
    }
   ],
   "source": [
    "ct.spearman_test(data_parti['age'], data_parti[\"nombre d'achat\"])"
   ]
  },
  {
   "cell_type": "markdown",
   "id": "55592efb",
   "metadata": {},
   "source": [
    "## 2.3 Test d'indépendance de l'âge avec le panier moyen"
   ]
  },
  {
   "cell_type": "code",
   "execution_count": 20,
   "id": "6d66420d",
   "metadata": {},
   "outputs": [],
   "source": [
    "data_parti['cluster_age'] = pd.cut(data_parti['age'], bins=[17,30,50,100], labels=[\"18-30\",\"30-50\",\"50+\"])"
   ]
  },
  {
   "cell_type": "code",
   "execution_count": 21,
   "id": "1ff26e9d",
   "metadata": {},
   "outputs": [
    {
     "data": {
      "image/png": "[encoded data removed]",
      "text/plain": [
       "<Figure size 1080x360 with 2 Axes>"
      ]
     },
     "metadata": {
      "needs_background": "light"
     },
     "output_type": "display_data"
    }
   ],
   "source": [
    "# Représentation graphique de l'âge avec le panier moyen\n",
    "\n",
    "\n",
    "\n",
    "fig, ax = plt.subplots(1,2,figsize=(15,5))\n",
    "sns.scatterplot(data=data, x=\"age\", y=\"panier moyen\", ax=ax[0])\n",
    "sns.scatterplot(data=data_parti, x=\"age\", y=\"panier moyen\", hue = \"cluster_age\", ax=ax[1])\n",
    "ax[0].set_title(\"Nuage de point entre l'âge et panier moyen\", fontsize=10)\n",
    "ax[1].set_title(\"Nuage de point entre l'âge et le panier moyen (client particulier)\", fontsize=10)\n",
    "plt.show()"
   ]
  },
  {
   "cell_type": "markdown",
   "id": "7b3be720",
   "metadata": {},
   "source": [
    "**Note** : On observe 3 types de comportement d'achat selon l'âge et le montant moyen du panier\n",
    "\n",
    "* **Cluster 1** : Les clients de moins de 30 ans \n",
    "* **Cluster 2** : Les client entre 30 et 50 ans\n",
    "* **Cluster 3** : Les clients de plus de 50 ans"
   ]
  },
  {
   "cell_type": "code",
   "execution_count": 22,
   "id": "016dc49f",
   "metadata": {},
   "outputs": [
    {
     "name": "stdout",
     "output_type": "stream",
     "text": [
      "==================================================================================================== \n",
      "\n",
      "\t\t\t\t\t TEST DE LA NORMALITE (TEST DE SHAPIRO) \n",
      "\n",
      "==================================================================================================== \n",
      "\n",
      "\n",
      "    \t##### \u001b[1m0. Hypothèse du test\u001b[0m #####\n",
      "\n",
      "    H0 : \u001b[1mpanier moyen\u001b[0m suit une loi normale \n",
      "\n",
      "    H1 : \u001b[1mpanier moyen\u001b[0m ne suit pas une loi normale \n",
      "\n",
      "    \n",
      "    \t##### \u001b[1m1. Paramètre du test de Shapiro\u001b[0m #####\n",
      "\n",
      "    Variable aléatoire étudiée : \u001b[1mpanier moyen\u001b[0m\n",
      "\n",
      "    Indice de confiance : \u001b[1m0.05\u001b[0m\n",
      "\n",
      "    Taille de l'échantillon : \u001b[1m76\u001b[0m\n",
      "\n",
      "    \n",
      "    \t #### \u001b[1m2. Résultat du test\u001b[0m ####\n",
      "\n",
      "    p-value de shapiro : \u001b[1m5.581044524097245e-13\u001b[0m\n",
      "\n",
      "    coefficient de shapiro : \u001b[1m0.6054785251617432\u001b[0m\n",
      " \n",
      "    \n",
      "    \t #### \u001b[1m3. Conclusion du test\u001b[0m ####\n",
      "\n",
      "L'hypothèse nulle est rejetée \t ==> \u001b[1mpanier moyen\u001b[0m ne suit pas une loi normale\n",
      "\n",
      "==================================================================================================== \n",
      "\n"
     ]
    }
   ],
   "source": [
    "ct.shapiro_test(data_parti[\"panier moyen\"])"
   ]
  },
  {
   "cell_type": "code",
   "execution_count": 23,
   "id": "498c93a9",
   "metadata": {},
   "outputs": [
    {
     "name": "stdout",
     "output_type": "stream",
     "text": [
      "==================================================================================================== \n",
      "\n",
      "\t\t\t\t\t  \u001b[1mTEST D'INDEPENDANCE DE SPEARMAN \u001b[0m \n",
      "\n",
      "==================================================================================================== \n",
      "\n",
      "\t##### \u001b[1m0. Hypothèse du test\u001b[0m #####\n",
      "\n",
      "    H0 : Les variables ('age', 'panier moyen') sont indépendantes\n",
      "\n",
      "    H1 : Les variables ('age', 'panier moyen') sont corrélées\n",
      "\n",
      "    \t##### \u001b[1m1. Paramètre du test de Shapiro\u001b[0m #####\n",
      "\n",
      "    Variables aléatoires étudiées : \u001b[1m('age', 'panier moyen')\u001b[0m\n",
      "\n",
      "    Indice de confiance : \u001b[1m0.05\u001b[0m\n",
      "\n",
      "    Taille de l'échantillon : \u001b[1m76\u001b[0m\n",
      "\n",
      "\n",
      "    \t #### \u001b[1m2. Résultat du test\u001b[0m ####\n",
      "\n",
      "    coefficient de Spearman : \u001b[1m-0.09238550922761449\u001b[0m\n",
      "\n",
      "    p-value associée au test de Spearman : \u001b[1m0.4273411301089961\u001b[0m\n",
      "\n",
      "    \t #### \u001b[1m3. Conclusion du test\u001b[0m ####\n",
      "\n",
      "\n",
      " --> \u001b[1m('age', 'panier moyen')\u001b[0m présentent une corrélation négative \u001b[1mnégligeable (ou nulle) peu significative\u001b[0m\n"
     ]
    }
   ],
   "source": [
    "ct.spearman_test(data_parti['age'], data_parti[\"panier moyen\"])"
   ]
  },
  {
   "cell_type": "markdown",
   "id": "8433d849",
   "metadata": {},
   "source": [
    "## 2.4 Test d'indépendance entre l'âge et la catégorie de livre à l'achat"
   ]
  },
  {
   "cell_type": "code",
   "execution_count": 24,
   "id": "e4f16d9f",
   "metadata": {},
   "outputs": [],
   "source": [
    "client_parti = transaction_customer.loc[transaction_customer[\"type_client\"]==\"particulier\", ['age','categ']]\n"
   ]
  },
  {
   "cell_type": "code",
   "execution_count": 25,
   "id": "790d4655",
   "metadata": {},
   "outputs": [
    {
     "data": {
      "text/html": [
       "<div>\n",
       "<style scoped>\n",
       "    .dataframe tbody tr th:only-of-type {\n",
       "        vertical-align: middle;\n",
       "    }\n",
       "\n",
       "    .dataframe tbody tr th {\n",
       "        vertical-align: top;\n",
       "    }\n",
       "\n",
       "    .dataframe thead th {\n",
       "        text-align: right;\n",
       "    }\n",
       "</style>\n",
       "<table border=\"1\" class=\"dataframe\">\n",
       "  <thead>\n",
       "    <tr style=\"text-align: right;\">\n",
       "      <th></th>\n",
       "      <th>age</th>\n",
       "      <th>categ</th>\n",
       "    </tr>\n",
       "  </thead>\n",
       "  <tbody>\n",
       "    <tr>\n",
       "      <th>0</th>\n",
       "      <td>37</td>\n",
       "      <td>0</td>\n",
       "    </tr>\n",
       "    <tr>\n",
       "      <th>1</th>\n",
       "      <td>48</td>\n",
       "      <td>0</td>\n",
       "    </tr>\n",
       "    <tr>\n",
       "      <th>2</th>\n",
       "      <td>47</td>\n",
       "      <td>0</td>\n",
       "    </tr>\n",
       "    <tr>\n",
       "      <th>3</th>\n",
       "      <td>58</td>\n",
       "      <td>0</td>\n",
       "    </tr>\n",
       "    <tr>\n",
       "      <th>4</th>\n",
       "      <td>41</td>\n",
       "      <td>0</td>\n",
       "    </tr>\n",
       "    <tr>\n",
       "      <th>...</th>\n",
       "      <td>...</td>\n",
       "      <td>...</td>\n",
       "    </tr>\n",
       "    <tr>\n",
       "      <th>315581</th>\n",
       "      <td>37</td>\n",
       "      <td>0</td>\n",
       "    </tr>\n",
       "    <tr>\n",
       "      <th>315582</th>\n",
       "      <td>38</td>\n",
       "      <td>0</td>\n",
       "    </tr>\n",
       "    <tr>\n",
       "      <th>315583</th>\n",
       "      <td>48</td>\n",
       "      <td>0</td>\n",
       "    </tr>\n",
       "    <tr>\n",
       "      <th>315584</th>\n",
       "      <td>56</td>\n",
       "      <td>0</td>\n",
       "    </tr>\n",
       "    <tr>\n",
       "      <th>315585</th>\n",
       "      <td>31</td>\n",
       "      <td>0</td>\n",
       "    </tr>\n",
       "  </tbody>\n",
       "</table>\n",
       "<p>293944 rows × 2 columns</p>\n",
       "</div>"
      ],
      "text/plain": [
       "        age  categ\n",
       "0        37      0\n",
       "1        48      0\n",
       "2        47      0\n",
       "3        58      0\n",
       "4        41      0\n",
       "...     ...    ...\n",
       "315581   37      0\n",
       "315582   38      0\n",
       "315583   48      0\n",
       "315584   56      0\n",
       "315585   31      0\n",
       "\n",
       "[293944 rows x 2 columns]"
      ]
     },
     "execution_count": 25,
     "metadata": {},
     "output_type": "execute_result"
    }
   ],
   "source": [
    "client_parti"
   ]
  },
  {
   "cell_type": "code",
   "execution_count": 26,
   "id": "78cd4617",
   "metadata": {},
   "outputs": [
    {
     "data": {
      "text/plain": [
       "<matplotlib.legend.Legend at 0x13d5b4fd460>"
      ]
     },
     "execution_count": 26,
     "metadata": {},
     "output_type": "execute_result"
    },
    {
     "data": {
      "image/png": "[encoded data removed]",
      "text/plain": [
       "<Figure size 720x432 with 1 Axes>"
      ]
     },
     "metadata": {
      "needs_background": "light"
     },
     "output_type": "display_data"
    }
   ],
   "source": [
    "meanprops={\"marker\" : \"s\", \"markerfacecolor\" : \"w\"}\n",
    "\n",
    "plt.subplots(1, figsize=(10,6))\n",
    "sns.boxplot(data=client_parti, x='age',y='categ', showmeans=True, orient='h', showfliers=False, meanprops = meanprops)\n",
    "plt.show()"
   ]
  },
  {
   "cell_type": "markdown",
   "id": "63c12ac9",
   "metadata": {},
   "source": [
    "**Test statistique d'ANOVA** pour tester l'indépendance d'une variable catégorique (catégorie de livre acheté) avec une variable quantitative (l'âge)\n",
    "\n",
    "On pose : \n",
    "\n",
    "* **X** : désigne l'âge d'un client\n",
    "* **Y**: désigne la catégorie du livre à l'achat du client\n",
    "\n",
    "Hypothèse : \n",
    "\n",
    "* H0 : L'âge et la catégorie d'achat sont deux variables indépendantes (Pas d'effet d'âge sur la catégorie) <br>\n",
    "* H1 : L'âge et la catégorie sont dépendantes \n",
    "\n",
    "**Statistique étudié** : le coefficient d'Anova pour tester la variance (l'écart) des moyennes de chacune des catégories"
   ]
  },
  {
   "cell_type": "code",
   "execution_count": 27,
   "id": "9b504a8c",
   "metadata": {},
   "outputs": [
    {
     "name": "stdout",
     "output_type": "stream",
     "text": [
      "Test ANOVA entre Age et catégories\n",
      "\t Hypoyhèse nulle H0 : \t \t L'âge et la catégorie d'achat sont deux variables indépendantes (Pas d'effet d'âge sur la catégorie)\n",
      "\t Hypoyhèse alternative H1 : \t L'âge et la catégorie sont dépendantes\n",
      "\n",
      "Table ANOVA :\n",
      "                sum_sq      df          F        PR(>F)\n",
      "categ     5.974425e+03     1.0  31.706788  1.841366e-08\n",
      "Residual  1.883896e+06  9998.0        NaN           NaN\n",
      "p-value : 1.8413655607396472e-08\n",
      "L'hypothèse nulle est rejetée \t ==> H1: Au moins une catégorie a une moyenne d'age significativement différente.\n"
     ]
    }
   ],
   "source": [
    "# Création d'un échantillon de 10000 transactions prises aléatoirement\n",
    "sample = client_parti.sample(10000)\n",
    "model = smf.ols('age ~ categ', data=sample).fit()\n",
    "anova_table = sm.stats.anova_lm(model, typ=2)\n",
    "print('Test ANOVA entre Age et catégories')\n",
    "print(\"\\t Hypoyhèse nulle H0 : \\t \\t L'âge et la catégorie d'achat sont deux variables indépendantes (Pas d'effet d'âge sur la catégorie)\")\n",
    "print(\"\\t Hypoyhèse alternative H1 : \\t L'âge et la catégorie sont dépendantes\")\n",
    "print('')\n",
    "print('Table ANOVA :')\n",
    "print(anova_table)\n",
    "p_value = anova_table['PR(>F)'][0]\n",
    "print('p-value :', p_value)\n",
    "if p_value < 0.05:\n",
    "    print(\"L'hypothèse nulle est rejetée \\t ==> H1: Au moins une catégorie a une moyenne d'age significativement différente.\")\n",
    "else:\n",
    "    print(\"On ne peut pas rejeter l'hypothèse nulle H0 (Pas d'effet d'age sur les catégories).\")"
   ]
  },
  {
   "cell_type": "code",
   "execution_count": null,
   "id": "65d82da0",
   "metadata": {},
   "outputs": [],
   "source": []
  }
 ],
 "metadata": {
  "kernelspec": {
   "display_name": "Python 3",
   "language": "python",
   "name": "python3"
  },
  "language_info": {
   "codemirror_mode": {
    "name": "ipython",
    "version": 3
   },
   "file_extension": ".py",
   "mimetype": "text/x-python",
   "name": "python",
   "nbconvert_exporter": "python",
   "pygments_lexer": "ipython3",
   "version": "3.8.8"
  }
 },
 "nbformat": 4,
 "nbformat_minor": 5
}
